{
 "cells": [
  {
   "cell_type": "code",
   "execution_count": 3,
   "id": "0f7589c4",
   "metadata": {},
   "outputs": [
    {
     "name": "stdout",
     "output_type": "stream",
     "text": [
      "[65, 40, 16, 56, 6, 12]\n"
     ]
    }
   ],
   "source": [
    "#Write a python program to swap first and last element of the list\n",
    "#Swap function \n",
    "def swapList(newList):\n",
    "    size = len(newList)\n",
    "    \n",
    "#Swapping\n",
    "\n",
    "    temp = newList[0]\n",
    "    newList[0] = newList[size - 1]\n",
    "    newList[size- 1] = temp\n",
    "\n",
    "    return newList\n",
    "\n",
    "newList = [12,40,16,56,6,65]\n",
    "\n",
    "print(swapList(newList))\n"
   ]
  },
  {
   "cell_type": "code",
   "execution_count": 4,
   "id": "f6fc1023",
   "metadata": {},
   "outputs": [
    {
     "name": "stdout",
     "output_type": "stream",
     "text": [
      "Original list: [10, 11, 12, 13]\n",
      "New list:  [13, 11, 12, 10]\n"
     ]
    }
   ],
   "source": [
    "#without function \n",
    "list1=[10,11,12,13]\n",
    "length=len(list1)\n",
    "\n",
    "print('Original list:', list1)\n",
    "\n",
    "temp=list1[0]\n",
    "list1[0]=list1[length-1]\n",
    "list1[length-1]=temp\n",
    "\n",
    "\n",
    "print(\"New list: \",list1)"
   ]
  },
  {
   "cell_type": "code",
   "execution_count": 5,
   "id": "cc4b773e",
   "metadata": {},
   "outputs": [
    {
     "name": "stdout",
     "output_type": "stream",
     "text": [
      "5\n"
     ]
    }
   ],
   "source": [
    "#write python program to find the length of list using for loop\n",
    "\n",
    "list1 = [10,34,45,65,40]\n",
    "\n",
    "for i in range(len(list1)):\n",
    "    print(len(list1))\n",
    "    break;\n",
    "\n"
   ]
  },
  {
   "cell_type": "code",
   "execution_count": 7,
   "id": "329be37b",
   "metadata": {},
   "outputs": [
    {
     "name": "stdout",
     "output_type": "stream",
     "text": [
      "The list is : [1, 4, 5, 7, 8]\n",
      "Length of list is : 5\n"
     ]
    }
   ],
   "source": [
    "list2 = [1, 4, 5, 7, 8]\n",
    " \n",
    "print(\"The list is : \" + str(list2))\n",
    "counter = 0\n",
    "for i in list2:\n",
    " \n",
    "    # incrementing counter\n",
    "    counter = counter + 1\n",
    " \n",
    "# Printing length of list\n",
    "print(\"Length of list is : \" + str(counter))"
   ]
  },
  {
   "cell_type": "code",
   "execution_count": 8,
   "id": "61582406",
   "metadata": {},
   "outputs": [
    {
     "name": "stdout",
     "output_type": "stream",
     "text": [
      "3\n"
     ]
    }
   ],
   "source": [
    "list1=[10,20,30]\n",
    "\n",
    "counter=0\n",
    "for i in list1:\n",
    "    counter=counter+1\n",
    "    \n",
    "print(counter)"
   ]
  },
  {
   "cell_type": "code",
   "execution_count": 11,
   "id": "2f4f62ab",
   "metadata": {},
   "outputs": [
    {
     "name": "stdout",
     "output_type": "stream",
     "text": [
      "the second largest element is :- 90\n"
     ]
    }
   ],
   "source": [
    "#Given the list of number, you need to write a python program to find the second largest number in the list.\n",
    "#a=[10,56,23,89,23,45,90,110,78]\n",
    "\n",
    "a=[10,56,23,89,23,45,90,110,78]\n",
    "a.sort()\n",
    "length=len(a)\n",
    "print(\"the second largest element is :-\",a[length-2])"
   ]
  },
  {
   "cell_type": "code",
   "execution_count": null,
   "id": "772b0080",
   "metadata": {},
   "outputs": [],
   "source": []
  }
 ],
 "metadata": {
  "kernelspec": {
   "display_name": "Python 3 (ipykernel)",
   "language": "python",
   "name": "python3"
  },
  "language_info": {
   "codemirror_mode": {
    "name": "ipython",
    "version": 3
   },
   "file_extension": ".py",
   "mimetype": "text/x-python",
   "name": "python",
   "nbconvert_exporter": "python",
   "pygments_lexer": "ipython3",
   "version": "3.9.13"
  }
 },
 "nbformat": 4,
 "nbformat_minor": 5
}
